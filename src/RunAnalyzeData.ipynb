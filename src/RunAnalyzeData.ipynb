{
 "cells": [
  {
   "cell_type": "code",
   "execution_count": 1,
   "metadata": {},
   "outputs": [
    {
     "name": "stdout",
     "output_type": "stream",
     "text": [
      "### Load market files completed ###\n"
     ]
    },
    {
     "name": "stderr",
     "output_type": "stream",
     "text": [
      "E:\\Sem 3\\Data Science\\src\\AnalyzeData.py:171: SettingWithCopyWarning: \n",
      "A value is trying to be set on a copy of a slice from a DataFrame\n",
      "\n",
      "See the caveats in the documentation: http://pandas.pydata.org/pandas-docs/stable/indexing.html#indexing-view-versus-copy\n",
      "  df['avg_gain'][RSI_WINDOW] = df['rsi_gain'].rolling(window=RSI_WINDOW).mean().dropna().iloc[0]\n",
      "E:\\Sem 3\\Data Science\\src\\AnalyzeData.py:172: SettingWithCopyWarning: \n",
      "A value is trying to be set on a copy of a slice from a DataFrame\n",
      "\n",
      "See the caveats in the documentation: http://pandas.pydata.org/pandas-docs/stable/indexing.html#indexing-view-versus-copy\n",
      "  df['avg_loss'][RSI_WINDOW] = df['rsi_loss'].rolling(window=RSI_WINDOW).mean().dropna().iloc[0]\n",
      "C:\\Users\\JARVIS\\Anaconda3\\lib\\site-packages\\pandas\\core\\indexing.py:189: SettingWithCopyWarning: \n",
      "A value is trying to be set on a copy of a slice from a DataFrame\n",
      "\n",
      "See the caveats in the documentation: http://pandas.pydata.org/pandas-docs/stable/indexing.html#indexing-view-versus-copy\n",
      "  self._setitem_with_indexer(indexer, value)\n",
      "E:\\Sem 3\\Data Science\\src\\AnalyzeData.py:186: FutureWarning: Currently, 'apply' passes the values as ndarrays to the applied function. In the future, this will change to passing it as Series objects. You need to specify 'raw=True' to keep the current behaviour, and you can pass 'raw=False' to silence this warning\n",
      "  df['MAD'] = df['Close/Last'].rolling(window=5).apply(lambda x: np.fabs(x - x.mean()).mean())\n"
     ]
    },
    {
     "name": "stdout",
     "output_type": "stream",
     "text": [
      "../analyzed_data/market\\Commodities\\Energies\\CrudeOil_CL.csv\n",
      "../analyzed_data/market\\Commodities\\Energies\\Ethanol.csv\n",
      "../analyzed_data/market\\Commodities\\Energies\\Gasoline.csv\n",
      "../analyzed_data/market\\Commodities\\Energies\\NaturalGas.csv\n",
      "../analyzed_data/market\\Commodities\\Grains\\Corn.csv\n",
      "../analyzed_data/market\\Commodities\\Grains\\Oat.csv\n",
      "../analyzed_data/market\\Commodities\\Grains\\RedWheat.csv\n",
      "../analyzed_data/market\\Commodities\\Grains\\RoughRice.csv\n",
      "../analyzed_data/market\\Commodities\\Grains\\Soybeans.csv\n",
      "../analyzed_data/market\\Commodities\\Meats\\LiveCattle.csv\n",
      "../analyzed_data/market\\Commodities\\Meats\\Milk.csv\n",
      "../analyzed_data/market\\Commodities\\Metals\\Copper.csv\n",
      "../analyzed_data/market\\Commodities\\Metals\\Gold.csv\n",
      "../analyzed_data/market\\Commodities\\Metals\\Platinum.csv\n",
      "../analyzed_data/market\\Commodities\\Metals\\Silver.csv\n",
      "../analyzed_data/market\\Cryptocurrencies\\Bitcoin.csv\n",
      "../analyzed_data/market\\Cryptocurrencies\\DASH.csv\n",
      "../analyzed_data/market\\Cryptocurrencies\\Dogecoin.csv\n",
      "../analyzed_data/market\\Cryptocurrencies\\Ethereum.csv\n",
      "../analyzed_data/market\\Cryptocurrencies\\LiteCoin.csv\n",
      "../analyzed_data/market\\Cryptocurrencies\\NEO.csv\n",
      "../analyzed_data/market\\Cryptocurrencies\\Ripple.csv\n",
      "../analyzed_data/market\\Cryptocurrencies\\Tether.csv\n",
      "../analyzed_data/market\\Cryptocurrencies\\TRON.csv\n",
      "../analyzed_data/market\\Cryptocurrencies\\VeChain.csv\n",
      "../analyzed_data/market\\Currencies\\AUD.csv\n",
      "../analyzed_data/market\\Currencies\\BRL.csv\n",
      "../analyzed_data/market\\Currencies\\CAD.csv\n",
      "../analyzed_data/market\\Currencies\\CHF.csv\n",
      "../analyzed_data/market\\Currencies\\EUR.csv\n",
      "../analyzed_data/market\\Currencies\\GBP.csv\n",
      "../analyzed_data/market\\Currencies\\INR.csv\n",
      "../analyzed_data/market\\Currencies\\JPY.csv\n",
      "../analyzed_data/market\\Currencies\\MXN.csv\n",
      "../analyzed_data/market\\Currencies\\RUB.csv\n",
      "../analyzed_data/market\\Funds_ETFs\\USL.csv\n",
      "../analyzed_data/market\\Funds_ETFs\\USO.csv\n",
      "../analyzed_data/market\\Index\\CBOE_VolatilityIndex.csv\n",
      "../analyzed_data/market\\Index\\DowJones_IndustrialAvg.csv\n",
      "../analyzed_data/market\\Index\\NASDAQ_100_Index.csv\n",
      "../analyzed_data/market\\Index\\NASDAQ_100_Tech.csv\n",
      "../analyzed_data/market\\Index\\S&P_500.csv\n"
     ]
    }
   ],
   "source": [
    "%run AnalyzeData.py"
   ]
  },
  {
   "cell_type": "code",
   "execution_count": 2,
   "metadata": {},
   "outputs": [],
   "source": [
    "%run LargestDrop.py"
   ]
  },
  {
   "cell_type": "code",
   "execution_count": null,
   "metadata": {},
   "outputs": [],
   "source": []
  },
  {
   "cell_type": "code",
   "execution_count": null,
   "metadata": {},
   "outputs": [],
   "source": []
  },
  {
   "cell_type": "code",
   "execution_count": null,
   "metadata": {},
   "outputs": [],
   "source": []
  }
 ],
 "metadata": {
  "kernelspec": {
   "display_name": "Python 3",
   "language": "python",
   "name": "python3"
  },
  "language_info": {
   "codemirror_mode": {
    "name": "ipython",
    "version": 3
   },
   "file_extension": ".py",
   "mimetype": "text/x-python",
   "name": "python",
   "nbconvert_exporter": "python",
   "pygments_lexer": "ipython3",
   "version": "3.7.0"
  }
 },
 "nbformat": 4,
 "nbformat_minor": 2
}
